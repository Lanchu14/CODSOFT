{
 "cells": [
  {
   "cell_type": "code",
   "execution_count": null,
   "id": "fecccd09-77d3-4df5-a32d-ce3d552181d9",
   "metadata": {},
   "outputs": [
    {
     "name": "stdout",
     "output_type": "stream",
     "text": [
      "\n",
      "Menu:\n",
      "a. Add a new task.\n",
      "b. Complete a task.\n",
      "c. List all tasks.\n",
      "d. Quit.\n"
     ]
    }
   ],
   "source": [
    "def get_choice():\n",
    "    while True:\n",
    "        choice = input(\"Please choose an option: \").lower()\n",
    "        if choice == 'a' or choice == 'b' or choice == 'c' or choice == 'd':\n",
    "            return choice\n",
    "        else:\n",
    "            print(\"Invalid option, please choose a valid option.\")\n",
    "\n",
    "def print_menu():\n",
    "    print(\"\\nMenu:\")\n",
    "    print(\"a. Add a new task.\")\n",
    "    print(\"b. Complete a task.\")\n",
    "    print(\"c. List all tasks.\")\n",
    "    print(\"d. Quit.\")\n",
    "\n",
    "def add_task():\n",
    "    task = input(\"Enter the task name: \")\n",
    "    tasks.append(task)\n",
    "    print(\"Task added successfully.\")\n",
    "\n",
    "def complete_task():\n",
    "    task_to_complete = input(\"Enter the task name to mark as complete: \")\n",
    "    if task_to_complete in tasks:\n",
    "        tasks.remove(task_to_complete)\n",
    "        print(\"Task marked as complete.\")\n",
    "    else:\n",
    "        print(\"No such task found.\")\n",
    "\n",
    "def list_tasks():\n",
    "    if len(tasks) == 0:\n",
    "        print(\"There are no tasks to list.\")\n",
    "    else:\n",
    "        print(\"\\nTasks:\")\n",
    "        for task in tasks:\n",
    "            print(task)\n",
    "\n",
    "tasks = []\n",
    "while True:\n",
    "    print_menu()\n",
    "    choice = get_choice()\n",
    "\n",
    "    if choice == 'a':\n",
    "        add_task()\n",
    "    elif choice == 'b':\n",
    "        complete_task()\n",
    "    elif choice == 'c':\n",
    "        list_tasks()\n",
    "    elif choice == 'd':\n",
    "        print(\"All the task has completed\")\n",
    "        break"
   ]
  },
  {
   "cell_type": "code",
   "execution_count": null,
   "id": "6d27bb01-bb35-4921-a266-6529749c884c",
   "metadata": {},
   "outputs": [],
   "source": []
  }
 ],
 "metadata": {
  "kernelspec": {
   "display_name": "Python 3 (ipykernel)",
   "language": "python",
   "name": "python3"
  },
  "language_info": {
   "codemirror_mode": {
    "name": "ipython",
    "version": 3
   },
   "file_extension": ".py",
   "mimetype": "text/x-python",
   "name": "python",
   "nbconvert_exporter": "python",
   "pygments_lexer": "ipython3",
   "version": "3.11.5"
  }
 },
 "nbformat": 4,
 "nbformat_minor": 5
}
