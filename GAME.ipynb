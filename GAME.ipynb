{
 "cells": [
  {
   "cell_type": "code",
   "execution_count": 10,
   "id": "bfbc0c1c-472f-45c0-9e57-a1f61ccdf1c6",
   "metadata": {},
   "outputs": [],
   "source": [
    "#Rock-Paper -Scissors Game\n",
    "#The game will be played for 5 point ,The one who score 5 points first will be the winner\n",
    "# After every round whoever wins the round update the scores. whoever\n",
    "# will get 5 points first, will be the winner.\n",
    "from random import choice\n",
    "user_score = 0\n",
    "comp_score = 0\n",
    "\n",
    "while user_score != 5 and comp_score != 5:\n",
    "    options = ['rock', 'paper', 'scissor']\n",
    "    comp_guess = choice(options)\n",
    "    user_guess = input('please enter a your choice:\\nrock \\npaper \\nscissor')\n",
    "    if (comp_guess == 'rock' and user_guess == 'scissor') or (comp_guess == 'paper' and user_guess == 'rock') or (comp_guess == 'scissor' and user_guess == 'paper'):\n",
    "        comp_score += 1\n",
    "        print(f'computer score: {comp_score} & your score: {user_score}')\n",
    "        continue\n",
    "    elif  (user_guess == 'rock' and comp_guess == 'scissor') or (user_guess == 'paper' and comp_guess == 'rock') or (user_guess == 'scissor' and comp_guess == 'paper'):\n",
    "        user_score += 1\n",
    "        print(f'computer score: {comp_score} & your score: {user_score}')\n",
    "        continue\n",
    "    elif user_guess not in options:\n",
    "        print(f'you entered invalid choice')\n",
    "        continue\n",
    "    else:\n",
    "        print('you both chossed same choice ')\n",
    "        print(f'computer score: {comp_score} & your score: {user_score}')\n",
    "    \n",
    "if user_score == 5:\n",
    "    print('YOU WON ')\n",
    "    print('If you want to play again please start it again')\n",
    "else:\n",
    "    print('Computer Won')\n",
    "    print('GAME OVER!!!!')\n",
    "    print('If you want to play again please start it again')\n",
    "\n",
    "\n"
   ]
  },
  {
   "cell_type": "code",
   "execution_count": null,
   "id": "d11e92a5-f5a3-43bd-b563-80e8775f15b9",
   "metadata": {},
   "outputs": [],
   "source": []
  }
 ],
 "metadata": {
  "kernelspec": {
   "display_name": "Python 3 (ipykernel)",
   "language": "python",
   "name": "python3"
  },
  "language_info": {
   "codemirror_mode": {
    "name": "ipython",
    "version": 3
   },
   "file_extension": ".py",
   "mimetype": "text/x-python",
   "name": "python",
   "nbconvert_exporter": "python",
   "pygments_lexer": "ipython3",
   "version": "3.11.5"
  }
 },
 "nbformat": 4,
 "nbformat_minor": 5
}
